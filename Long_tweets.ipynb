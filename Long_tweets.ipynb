{
 "cells": [
  {
   "cell_type": "code",
   "execution_count": 38,
   "id": "966a7449",
   "metadata": {},
   "outputs": [],
   "source": [
    "import pandas as pd\n",
    "import numpy as np\n",
    "import seaborn as sns\n",
    "from sklearn.preprocessing import LabelEncoder\n",
    "from sklearn.preprocessing import MinMaxScaler\n",
    "from sklearn.preprocessing import StandardScaler\n",
    "from datetime import datetime\n",
    "from numpy import mean\n",
    "import seaborn as sns\n",
    "import matplotlib.pyplot as plt\n",
    "import plotly.express as px\n",
    "import re\n",
    "import string\n",
    "from string import punctuation\n",
    "from vaderSentiment.vaderSentiment import SentimentIntensityAnalyzer\n",
    "import nltk\n",
    "from nltk.sentiment import SentimentIntensityAnalyzer\n",
    "from nltk.corpus import stopwords\n",
    "from nltk.tokenize import word_tokenize\n",
    "from tqdm.notebook import tqdm\n",
    "import googletrans\n",
    "from googletrans import *\n",
    "from langdetect import detect\n",
    "\n",
    "import warnings\n",
    "warnings.filterwarnings('ignore')"
   ]
  },
  {
   "cell_type": "code",
   "execution_count": 2,
   "id": "63d8b58e",
   "metadata": {},
   "outputs": [],
   "source": [
    "df = pd.read_csv(r'C:\\Users\\tadeo\\Desktop\\CA2-Sem2\\Data\\ProjectTweets.csv', header = None)\n",
    "pd.set_option('display.max_colwidth', 1000)"
   ]
  },
  {
   "cell_type": "code",
   "execution_count": 5,
   "id": "938bff2d",
   "metadata": {},
   "outputs": [],
   "source": [
    "df1=df.copy()"
   ]
  },
  {
   "cell_type": "code",
   "execution_count": 6,
   "id": "46c5a595",
   "metadata": {},
   "outputs": [],
   "source": [
    "tqdm.pandas()\n",
    "\n",
    "# Drop columns\n",
    "df1 = df1.drop(columns = [1,3,4]).reset_index(drop = True)\n",
    "\n",
    "# Split date \n",
    "df1[['Day_of_week', 'Month', 'Day', 'Time', 'Timezone', 'Year']] = df1[2].str.split(expand=True)\n",
    "\n",
    "# Name columns\n",
    "df1.columns= ['ID','DATE', 'TWEET',  'DAY_OF_WEEK', 'MONTH', 'DAY', 'TIME', 'TIMEZONE', 'YEAR']\n",
    "\n",
    "# Map months\n",
    "m_map = {'Jan': '01', 'Feb': '02', 'Mar': '03',\n",
    "             'Apr': '04', 'May': '05', 'Jun': '06',\n",
    "             'Jul': '07', 'Aug': '08', 'Sep': '09',\n",
    "             'Oct': '10', 'Nov': '11', 'Dec': '12'}\n",
    "df1['MONTH'] = df1['MONTH'].map(m_map)\n",
    "\n",
    "# Create clean date column\n",
    "df1['DATE'] = df1['YEAR'] + '-' + df1['MONTH'] + '-' + df1['DAY'] + ' ' + df1['TIME']\n",
    "\n",
    "# Map days of week\n",
    "m_map = {'Mon': '01', 'Tue': '02', 'Wed': '03',\n",
    "         'Thu': '04', 'Fri': '05', 'Sat': '06',\n",
    "         'Sun': '07',\n",
    "        }\n",
    "df1['DAY_OF_WEEK'] = df1['DAY_OF_WEEK'].map(m_map)\n",
    "\n",
    "# Organize columns\n",
    "df1 = df1[['ID', 'DATE', 'DAY_OF_WEEK', 'TWEET', 'YEAR', 'MONTH', 'DAY', 'TIME', 'TIMEZONE']]\n",
    "\n",
    "# Eliminate columns\n",
    "df1 = df1.drop(columns = ['YEAR', 'MONTH', 'DAY', 'TIME', 'TIMEZONE']).reset_index(drop = True)\n",
    "\n",
    "# Eliminate https & mentions (@)\n",
    "df1['TWEET'] = df1['TWEET'].apply(\n",
    "    lambda tweet: ' '.join(\n",
    "        ['' if word.startswith('@') and len(word) > 1 or word.startswith('http') else word for word in tweet.split(' ')]\n",
    "    ))\n"
   ]
  },
  {
   "cell_type": "code",
   "execution_count": 7,
   "id": "9471913d",
   "metadata": {},
   "outputs": [
    {
     "data": {
      "text/html": [
       "<div>\n",
       "<style scoped>\n",
       "    .dataframe tbody tr th:only-of-type {\n",
       "        vertical-align: middle;\n",
       "    }\n",
       "\n",
       "    .dataframe tbody tr th {\n",
       "        vertical-align: top;\n",
       "    }\n",
       "\n",
       "    .dataframe thead th {\n",
       "        text-align: right;\n",
       "    }\n",
       "</style>\n",
       "<table border=\"1\" class=\"dataframe\">\n",
       "  <thead>\n",
       "    <tr style=\"text-align: right;\">\n",
       "      <th></th>\n",
       "      <th>ID</th>\n",
       "      <th>DATE</th>\n",
       "      <th>DAY_OF_WEEK</th>\n",
       "      <th>TWEET</th>\n",
       "    </tr>\n",
       "  </thead>\n",
       "  <tbody>\n",
       "    <tr>\n",
       "      <th>0</th>\n",
       "      <td>0</td>\n",
       "      <td>2009-04-06 22:19:45</td>\n",
       "      <td>01</td>\n",
       "      <td>- Awww, that's a bummer.  You shoulda got David Carr of Third Day to do it. ;D</td>\n",
       "    </tr>\n",
       "    <tr>\n",
       "      <th>1</th>\n",
       "      <td>1</td>\n",
       "      <td>2009-04-06 22:19:49</td>\n",
       "      <td>01</td>\n",
       "      <td>is upset that he can't update his Facebook by texting it... and might cry as a result  School today also. Blah!</td>\n",
       "    </tr>\n",
       "    <tr>\n",
       "      <th>2</th>\n",
       "      <td>2</td>\n",
       "      <td>2009-04-06 22:19:53</td>\n",
       "      <td>01</td>\n",
       "      <td>I dived many times for the ball. Managed to save 50%  The rest go out of bounds</td>\n",
       "    </tr>\n",
       "    <tr>\n",
       "      <th>3</th>\n",
       "      <td>3</td>\n",
       "      <td>2009-04-06 22:19:57</td>\n",
       "      <td>01</td>\n",
       "      <td>my whole body feels itchy and like its on fire</td>\n",
       "    </tr>\n",
       "    <tr>\n",
       "      <th>4</th>\n",
       "      <td>4</td>\n",
       "      <td>2009-04-06 22:19:57</td>\n",
       "      <td>01</td>\n",
       "      <td>no, it's not behaving at all. i'm mad. why am i here? because I can't see you all over there.</td>\n",
       "    </tr>\n",
       "  </tbody>\n",
       "</table>\n",
       "</div>"
      ],
      "text/plain": [
       "   ID                 DATE DAY_OF_WEEK  \\\n",
       "0   0  2009-04-06 22:19:45          01   \n",
       "1   1  2009-04-06 22:19:49          01   \n",
       "2   2  2009-04-06 22:19:53          01   \n",
       "3   3  2009-04-06 22:19:57          01   \n",
       "4   4  2009-04-06 22:19:57          01   \n",
       "\n",
       "                                                                                                             TWEET  \n",
       "0                                   - Awww, that's a bummer.  You shoulda got David Carr of Third Day to do it. ;D  \n",
       "1  is upset that he can't update his Facebook by texting it... and might cry as a result  School today also. Blah!  \n",
       "2                                  I dived many times for the ball. Managed to save 50%  The rest go out of bounds  \n",
       "3                                                                  my whole body feels itchy and like its on fire   \n",
       "4                   no, it's not behaving at all. i'm mad. why am i here? because I can't see you all over there.   "
      ]
     },
     "execution_count": 7,
     "metadata": {},
     "output_type": "execute_result"
    }
   ],
   "source": [
    "df1.head()"
   ]
  },
  {
   "cell_type": "code",
   "execution_count": 9,
   "id": "182601d4",
   "metadata": {},
   "outputs": [
    {
     "data": {
      "application/vnd.jupyter.widget-view+json": {
       "model_id": "2002bffc80ab44b1914ef42d38aa21c7",
       "version_major": 2,
       "version_minor": 0
      },
      "text/plain": [
       "  0%|          | 0/1600000 [00:00<?, ?it/s]"
      ]
     },
     "metadata": {},
     "output_type": "display_data"
    }
   ],
   "source": [
    "# Create column with tweet length\n",
    "\n",
    "df1['len_tweet'] = [len(str(t)) if pd.notna(t) else 0 for t in tqdm(df1.TWEET)]"
   ]
  },
  {
   "cell_type": "code",
   "execution_count": 11,
   "id": "e6d1ebdc",
   "metadata": {},
   "outputs": [
    {
     "data": {
      "application/vnd.jupyter.widget-view+json": {
       "model_id": "5e85a33b75ca4532915c4c8f609157f1",
       "version_major": 2,
       "version_minor": 0
      },
      "text/plain": [
       "TWEET COUNT:   0%|          | 0/1600000 [00:00<?, ?it/s]"
      ]
     },
     "metadata": {},
     "output_type": "display_data"
    },
    {
     "name": "stdout",
     "output_type": "stream",
     "text": [
      "Total of tweets with more than 140 characters: 8571 \n",
      "\n"
     ]
    }
   ],
   "source": [
    "# Long tweets count\n",
    "\n",
    "counts = 0\n",
    "\n",
    "for i in tqdm(df1['TWEET'], total=len(df1), desc=\"TWEET COUNT\"):\n",
    "    if len(i) > 140:\n",
    "        counts += 1\n",
    "print('Total of tweets with more than 140 characters: ' + str(counts), '\\n')"
   ]
  },
  {
   "cell_type": "code",
   "execution_count": 12,
   "id": "1e868d25",
   "metadata": {},
   "outputs": [],
   "source": [
    "def clean_tweet(tweet):\n",
    "    # Encode the tweet to UTF-8 to handle special characters\n",
    "    #tweet = tweet.encode('utf-8', errors='ignore').decode('utf-8')\n",
    "    tweet = tweet.lower()\n",
    "    tweet = re.sub(r'[^\\w\\s]', '', tweet)             # Remove special characters\n",
    "    tweet = re.sub(r'\\d+', '', tweet)                 # Remove numbers\n",
    "    tweet = re.sub(r'\\bwww\\.\\S+', '', tweet)          # Remove websites\n",
    "    \n",
    "    return tweet"
   ]
  },
  {
   "cell_type": "code",
   "execution_count": 13,
   "id": "a6bc1546",
   "metadata": {},
   "outputs": [
    {
     "data": {
      "application/vnd.jupyter.widget-view+json": {
       "model_id": "e1998cad304d4986864780375a1e36d3",
       "version_major": 2,
       "version_minor": 0
      },
      "text/plain": [
       "  0%|          | 0/1600000 [00:00<?, ?it/s]"
      ]
     },
     "metadata": {},
     "output_type": "display_data"
    }
   ],
   "source": [
    "df1['TWEET'] = df1['TWEET'].progress_apply(clean_tweet)"
   ]
  },
  {
   "cell_type": "code",
   "execution_count": 17,
   "id": "de095ffd",
   "metadata": {},
   "outputs": [
    {
     "data": {
      "application/vnd.jupyter.widget-view+json": {
       "model_id": "8799fa839d854c8cad48829f08bfd89d",
       "version_major": 2,
       "version_minor": 0
      },
      "text/plain": [
       "TWEET COUNT:   0%|          | 0/1600000 [00:00<?, ?it/s]"
      ]
     },
     "metadata": {},
     "output_type": "display_data"
    },
    {
     "name": "stdout",
     "output_type": "stream",
     "text": [
      "Total of tweets with more than 140 characters: 716 \n",
      "\n"
     ]
    },
    {
     "data": {
      "application/vnd.jupyter.widget-view+json": {
       "model_id": "a1925f8caf7641ecb0107f52d61082cd",
       "version_major": 2,
       "version_minor": 0
      },
      "text/plain": [
       "XL TWEETS:   0%|          | 0/1600000 [00:00<?, ?it/s]"
      ]
     },
     "metadata": {},
     "output_type": "display_data"
    },
    {
     "name": "stdout",
     "output_type": "stream",
     "text": [
      "List of tweets with more than 140 characters ready! \n",
      "\n"
     ]
    },
    {
     "data": {
      "application/vnd.jupyter.widget-view+json": {
       "model_id": "2ed5d90a846a473494a14b74030cd1d9",
       "version_major": 2,
       "version_minor": 0
      },
      "text/plain": [
       "  0%|          | 0/716 [00:00<?, ?it/s]"
      ]
     },
     "metadata": {},
     "output_type": "display_data"
    }
   ],
   "source": [
    "# Re-check tweets length\n",
    "counts = 0\n",
    "\n",
    "for i in tqdm(df1['TWEET'], total=len(df1), desc=\"TWEET COUNT\"):\n",
    "    if len(i) > 140:\n",
    "        counts += 1\n",
    "print('Total of tweets with more than 140 characters: ' + str(counts), '\\n')\n",
    "\n",
    "# Create a list of tweets with more than 140 characters to explore what's in them\n",
    "\n",
    "len_tweet = []\n",
    "\n",
    "for index, row in tqdm(df1.iterrows(), total=len(df1), desc=\"XL TWEETS\"):\n",
    "    if len(row['TWEET']) > 140:\n",
    "        len_tweet.append({'ID': row['ID'], 'TWEET': row['TWEET']})\n",
    "#df_len_tweet = pd.DataFrame(len_tweet)\n",
    "df_tweet = pd.DataFrame(len_tweet)\n",
    "print('List of tweets with more than 140 characters ready!', '\\n')\n",
    "\n",
    "df_tweet['len_tweet'] = [len(str(t)) if pd.notna(t) else 0 for t in tqdm(df_tweet.TWEET)]"
   ]
  },
  {
   "cell_type": "code",
   "execution_count": 20,
   "id": "3d1749c6",
   "metadata": {},
   "outputs": [
    {
     "data": {
      "image/png": "[encoded data removed]",
      "text/plain": [
       "<Figure size 500x500 with 1 Axes>"
      ]
     },
     "metadata": {},
     "output_type": "display_data"
    }
   ],
   "source": [
    "# Plot boxplot\n",
    "\n",
    "fig, ax = plt.subplots(figsize=(5, 5))\n",
    "plt.boxplot(df_tweet.len_tweet)\n",
    "plt.show()"
   ]
  },
  {
   "cell_type": "code",
   "execution_count": 21,
   "id": "dd9ad2df",
   "metadata": {},
   "outputs": [],
   "source": [
    "# From previous trials tweet 1040331 contains quot and amp\n",
    "test = df_tweet[df_tweet['ID'] == 1040331]"
   ]
  },
  {
   "cell_type": "code",
   "execution_count": 22,
   "id": "ba13460b",
   "metadata": {},
   "outputs": [],
   "source": [
    "# After exploring the tweets, 2 specific words were found \"quot\" and \"amp\" (i.e. tweet 1040331), remove this words\n",
    "#and update clean function\n",
    "\n",
    "def clean_tweet(tweet):\n",
    "    tweet = tweet.lower()\n",
    "    tweet = re.sub(r'[^\\w\\s]', '', tweet)                 # Remove special characters\n",
    "    tweet = re.sub(r'\\d+', '', tweet)                     # Remove numbers\n",
    "    tweet = re.sub(r'\\bwww\\.\\S+', '', tweet)              # Remove websites\n",
    "    tweet = re.sub(r'quot', '', tweet)                    # Remove \"quot\" anywhere in the word\n",
    "    tweet = re.sub(r'amp', '', tweet)                 # Remove isolated word \"amp\"\n",
    "    # Encode the tweet to UTF-8 to handle special characters\n",
    "    tweet = tweet.encode('utf-8', errors='ignore').decode('utf-8')\n",
    "    return tweet"
   ]
  },
  {
   "cell_type": "code",
   "execution_count": 23,
   "id": "391511e2",
   "metadata": {},
   "outputs": [
    {
     "data": {
      "application/vnd.jupyter.widget-view+json": {
       "model_id": "67f6c220c1bd4a938d6718f33e0db94d",
       "version_major": 2,
       "version_minor": 0
      },
      "text/plain": [
       "  0%|          | 0/716 [00:00<?, ?it/s]"
      ]
     },
     "metadata": {},
     "output_type": "display_data"
    }
   ],
   "source": [
    "# Apply function and see if it works\n",
    "\n",
    "df_tweet['TWEET'] = df_tweet['TWEET'].progress_apply(clean_tweet)"
   ]
  },
  {
   "cell_type": "code",
   "execution_count": 24,
   "id": "9b33d81b",
   "metadata": {},
   "outputs": [
    {
     "data": {
      "application/vnd.jupyter.widget-view+json": {
       "model_id": "6f5fd683a4f84647949fa779a67035a1",
       "version_major": 2,
       "version_minor": 0
      },
      "text/plain": [
       "  0%|          | 0/716 [00:00<?, ?it/s]"
      ]
     },
     "metadata": {},
     "output_type": "display_data"
    }
   ],
   "source": [
    "# Re-check lenght\n",
    "\n",
    "df_tweet['new_len_tweet'] = [len(str(t)) if pd.notna(t) else 0 for t in tqdm(df_tweet.TWEET)]"
   ]
  },
  {
   "cell_type": "code",
   "execution_count": 25,
   "id": "e7d7e60c",
   "metadata": {},
   "outputs": [
    {
     "data": {
      "text/html": [
       "<div>\n",
       "<style scoped>\n",
       "    .dataframe tbody tr th:only-of-type {\n",
       "        vertical-align: middle;\n",
       "    }\n",
       "\n",
       "    .dataframe tbody tr th {\n",
       "        vertical-align: top;\n",
       "    }\n",
       "\n",
       "    .dataframe thead th {\n",
       "        text-align: right;\n",
       "    }\n",
       "</style>\n",
       "<table border=\"1\" class=\"dataframe\">\n",
       "  <thead>\n",
       "    <tr style=\"text-align: right;\">\n",
       "      <th></th>\n",
       "      <th>ID</th>\n",
       "      <th>TWEET</th>\n",
       "      <th>len_tweet</th>\n",
       "      <th>new_len_tweet</th>\n",
       "    </tr>\n",
       "  </thead>\n",
       "  <tbody>\n",
       "    <tr>\n",
       "      <th>0</th>\n",
       "      <td>1071</td>\n",
       "      <td>used the term fail whale to a client on a pitch last night from their incomprehension corp twitter is being done much lower in the org</td>\n",
       "      <td>143</td>\n",
       "      <td>135</td>\n",
       "    </tr>\n",
       "    <tr>\n",
       "      <th>1</th>\n",
       "      <td>1767</td>\n",
       "      <td>tks pa  tapauing croissant tuna knowing dat ive backtoback meetings since morning   zuraidah tks  buying my fav starbuck mocha frap</td>\n",
       "      <td>142</td>\n",
       "      <td>131</td>\n",
       "    </tr>\n",
       "    <tr>\n",
       "      <th>2</th>\n",
       "      <td>6132</td>\n",
       "      <td>long day of moving and painting with the fam they even treated me to a huge mcdonnalds dinner   people need to learn about health food</td>\n",
       "      <td>142</td>\n",
       "      <td>134</td>\n",
       "    </tr>\n",
       "    <tr>\n",
       "      <th>3</th>\n",
       "      <td>6894</td>\n",
       "      <td>woke up early this morning to not all the way better baby and a i think im sick aaron wife when these powers are combined not good</td>\n",
       "      <td>147</td>\n",
       "      <td>131</td>\n",
       "    </tr>\n",
       "    <tr>\n",
       "      <th>4</th>\n",
       "      <td>7017</td>\n",
       "      <td>today is turning into a frustrating exercise of ignore the consultant because we want an easy sale  someone else can fix it later on</td>\n",
       "      <td>141</td>\n",
       "      <td>133</td>\n",
       "    </tr>\n",
       "  </tbody>\n",
       "</table>\n",
       "</div>"
      ],
      "text/plain": [
       "     ID  \\\n",
       "0  1071   \n",
       "1  1767   \n",
       "2  6132   \n",
       "3  6894   \n",
       "4  7017   \n",
       "\n",
       "                                                                                                                                     TWEET  \\\n",
       "0  used the term fail whale to a client on a pitch last night from their incomprehension corp twitter is being done much lower in the org    \n",
       "1      tks pa  tapauing croissant tuna knowing dat ive backtoback meetings since morning   zuraidah tks  buying my fav starbuck mocha frap   \n",
       "2   long day of moving and painting with the fam they even treated me to a huge mcdonnalds dinner   people need to learn about health food   \n",
       "3      woke up early this morning to not all the way better baby and a i think im sick aaron wife when these powers are combined not good    \n",
       "4    today is turning into a frustrating exercise of ignore the consultant because we want an easy sale  someone else can fix it later on    \n",
       "\n",
       "   len_tweet  new_len_tweet  \n",
       "0        143            135  \n",
       "1        142            131  \n",
       "2        142            134  \n",
       "3        147            131  \n",
       "4        141            133  "
      ]
     },
     "execution_count": 25,
     "metadata": {},
     "output_type": "execute_result"
    }
   ],
   "source": [
    "df_tweet.head()"
   ]
  },
  {
   "cell_type": "code",
   "execution_count": 29,
   "id": "5d0bea53",
   "metadata": {},
   "outputs": [
    {
     "data": {
      "application/vnd.jupyter.widget-view+json": {
       "model_id": "477e8378abfd4a67ae5cace0b5300de0",
       "version_major": 2,
       "version_minor": 0
      },
      "text/plain": [
       "  0%|          | 0/716 [00:00<?, ?it/s]"
      ]
     },
     "metadata": {},
     "output_type": "display_data"
    },
    {
     "name": "stdout",
     "output_type": "stream",
     "text": [
      "Total of tweets with more than 140 characters: 87\n"
     ]
    }
   ],
   "source": [
    "# Re-count tweets with lenght>140\n",
    "\n",
    "counts = 0\n",
    "for i in tqdm(df_tweet['TWEET'], total=len(df_tweet)):\n",
    "    if len(i) > 140:\n",
    "        counts = counts + 1\n",
    "print('Total of tweets with more than 140 characters: ' + str(counts))"
   ]
  },
  {
   "cell_type": "code",
   "execution_count": 26,
   "id": "002d600c",
   "metadata": {},
   "outputs": [
    {
     "data": {
      "image/png": "[encoded data removed]",
      "text/plain": [
       "<Figure size 500x500 with 1 Axes>"
      ]
     },
     "metadata": {},
     "output_type": "display_data"
    }
   ],
   "source": [
    "# Plot boxplot\n",
    "\n",
    "fig, ax = plt.subplots(figsize=(5, 5))\n",
    "plt.boxplot(df_tweet.new_len_tweet)\n",
    "plt.show()"
   ]
  },
  {
   "cell_type": "code",
   "execution_count": 27,
   "id": "12e5dcd0",
   "metadata": {
    "scrolled": true
   },
   "outputs": [
    {
     "name": "stdout",
     "output_type": "stream",
     "text": [
      "          ID  \\\n",
      "452  1040331   \n",
      "\n",
      "                                                                                                                                   TWEET  \\\n",
      "452  it is late  i do have a real job to be at in the am so i should get some sleep  keep on retweeting please thank you for the support   \n",
      "\n",
      "     len_tweet  new_len_tweet  \n",
      "452        142            131  \n",
      "          ID  \\\n",
      "452  1040331   \n",
      "\n",
      "                                                                                                                                              TWEET  \\\n",
      "452  it is late amp i do have a quotrealquot job to be at in the am so i should get some sleep  keep on retweeting please thank you for the support   \n",
      "\n",
      "     len_tweet  \n",
      "452        142   \n",
      "\n"
     ]
    }
   ],
   "source": [
    "# Check tweet 1040331\n",
    "\n",
    "print(df_tweet[df_tweet['ID'] == 1040331])\n",
    "print(test, '\\n')"
   ]
  },
  {
   "cell_type": "code",
   "execution_count": 31,
   "id": "2cd68ce2",
   "metadata": {},
   "outputs": [
    {
     "data": {
      "application/vnd.jupyter.widget-view+json": {
       "model_id": "5f6d3ac752b641a9a0a1dfdf2226e191",
       "version_major": 2,
       "version_minor": 0
      },
      "text/plain": [
       "  0%|          | 0/716 [00:00<?, ?it/s]"
      ]
     },
     "metadata": {},
     "output_type": "display_data"
    },
    {
     "data": {
      "application/vnd.jupyter.widget-view+json": {
       "model_id": "b5faafaa35324823ae7717e5b3bacc4f",
       "version_major": 2,
       "version_minor": 0
      },
      "text/plain": [
       "  0%|          | 0/87 [00:00<?, ?it/s]"
      ]
     },
     "metadata": {},
     "output_type": "display_data"
    }
   ],
   "source": [
    "# now that the number of tweets is reduced to 87, create a new list to check what's in the tweets\n",
    "\n",
    "len_tweet2 = []\n",
    "\n",
    "for index, row in tqdm(df_tweet.iterrows(), total=len(df_tweet)):\n",
    "    if len(row['TWEET']) > 140:\n",
    "        len_tweet2.append({'ID': row['ID'], 'TWEET': row['TWEET']})\n",
    "#df_len_tweet2 = pd.DataFrame(len_tweet2)\n",
    "#print(len_tweet)\n",
    "df_tweet2 = pd.DataFrame(len_tweet2)\n",
    "\n",
    "# Re-check lenght\n",
    "\n",
    "df_tweet2['new_len_tweet'] = [len(str(t)) if pd.notna(t) else 0 for t in tqdm(df_tweet2.TWEET)]"
   ]
  },
  {
   "cell_type": "code",
   "execution_count": 32,
   "id": "a5b1489e",
   "metadata": {},
   "outputs": [
    {
     "data": {
      "text/html": [
       "<div>\n",
       "<style scoped>\n",
       "    .dataframe tbody tr th:only-of-type {\n",
       "        vertical-align: middle;\n",
       "    }\n",
       "\n",
       "    .dataframe tbody tr th {\n",
       "        vertical-align: top;\n",
       "    }\n",
       "\n",
       "    .dataframe thead th {\n",
       "        text-align: right;\n",
       "    }\n",
       "</style>\n",
       "<table border=\"1\" class=\"dataframe\">\n",
       "  <thead>\n",
       "    <tr style=\"text-align: right;\">\n",
       "      <th></th>\n",
       "      <th>ID</th>\n",
       "      <th>TWEET</th>\n",
       "      <th>new_len_tweet</th>\n",
       "    </tr>\n",
       "  </thead>\n",
       "  <tbody>\n",
       "    <tr>\n",
       "      <th>0</th>\n",
       "      <td>248973</td>\n",
       "      <td>ðññ openoffice ð²ñððµñðð ñð²ð¾ðµð¹ ð½ðµññððððñð½ð¾ññññ ðñð ñððð¾ñðµ ñ ñððððñðð¼ð ð²ñðµð¼ðµð½ð½ð¾ ððµñðµðµðððñ ð¾ðñðñð½ð¾ ð½ð m ðñð²ññð²ññ ñðµðñ ðñðµððñðµððµð¼</td>\n",
       "      <td>159</td>\n",
       "    </tr>\n",
       "    <tr>\n",
       "      <th>1</th>\n",
       "      <td>271633</td>\n",
       "      <td>àªààª àªàªààª àªàªàª àªà àªààª àªàª¾àªà àªàªàª¾àªµààªààª àªà it says you have not confirmed earlier registration  let me try with my yahoo id</td>\n",
       "      <td>142</td>\n",
       "    </tr>\n",
       "    <tr>\n",
       "      <th>2</th>\n",
       "      <td>272536</td>\n",
       "      <td>ððð³ðññððð¾ ððð²ððµð½ððµ ðºð¾ð½ñððºñð¾ð² ñ gmail ñð½ðñððð ðð¾ðºðððð ññð¾ ðð¾ððð²ðð following  \\tð  followers ð½ð¾ ñðµð¹ñðñ ð ñ",
       "ñð½ð¾ð²ð ð½ðµñ</td>\n",
       "      <td>141</td>\n",
       "    </tr>\n",
       "    <tr>\n",
       "      <th>3</th>\n",
       "      <td>283722</td>\n",
       "      <td>ññðºðð²ð¾ ñð¾ ðñðð²ð¾ð¾ñ",
       "ð¾ñð¾ð½ð½ñ ð¾ñð³ðð½ð ð¼ð¾ðñññ ðñð¾ððñð sharenetua ð²ððñð½ððº ð½ñðð ðð ðºð¾ñðð¾ð½ð¾ð¼ ððñð½ ð ñðµñð²ððº ñð¾ ð² ððñð²ñ</td>\n",
       "      <td>142</td>\n",
       "    </tr>\n",
       "    <tr>\n",
       "      <th>4</th>\n",
       "      <td>322655</td>\n",
       "      <td>ð¾ðððð½ð¾ ññð¾ ð¼ð½ð¾ð³ððµ ñð²ðñðµññð½ðµ ð½ðµ ððð¼ðµñðññ ðºð¾ð³ðð ðð¼ ð¾ñðñðð²ðñðµññ reply ð direct ð¼ð¾ðð½ð¾ ð¾ñðñðð²ðñññ ñð¾ðñðºð¾ ñðµð¼ ðºñð¾ ñðµðñ ñðñððµñ</td>\n",
       "      <td>159</td>\n",
       "    </tr>\n",
       "  </tbody>\n",
       "</table>\n",
       "</div>"
      ],
      "text/plain": [
       "       ID  \\\n",
       "0  248973   \n",
       "1  271633   \n",
       "2  272536   \n",
       "3  283722   \n",
       "4  322655   \n",
       "\n",
       "                                                                                                                                                             TWEET  \\\n",
       "0  ðññ openoffice ð²ñððµñðð ñð²ð¾ðµð¹ ð½ðµññððððñð½ð¾ññññ ðñð ñððð¾ñðµ ñ ñððððñðð¼ð ð²ñðµð¼ðµð½ð½ð¾ ððµñðµðµðððñ ð¾ðñðñð½ð¾ ð½ð m ðñð²ññð²ññ ñðµðñ ðñðµððñðµððµð¼    \n",
       "1                    àªààª àªàªààª àªàªàª àªà àªààª àªàª¾àªà àªàªàª¾àªµààªààª àªà it says you have not confirmed earlier registration  let me try with my yahoo id   \n",
       "2                   ððð³ðññððð¾ ððð²ððµð½ððµ ðºð¾ð½ñððºñð¾ð² ñ gmail ñð½ðñððð ðð¾ðºðððð ññð¾ ðð¾ððð²ðð following  \\tð  followers ð½ð¾ ñðµð¹ñðñ ð ñ\n",
       "ñð½ð¾ð²ð ð½ðµñ    \n",
       "3                   ññðºðð²ð¾ ñð¾ ðñðð²ð¾ð¾ñ\n",
       "ð¾ñð¾ð½ð½ñ ð¾ñð³ðð½ð ð¼ð¾ðñññ ðñð¾ððñð sharenetua ð²ððñð½ððº ð½ñðð ðð ðºð¾ñðð¾ð½ð¾ð¼ ððñð½ ð ñðµñð²ððº ñð¾ ð² ððñð²ñ    \n",
       "4  ð¾ðððð½ð¾ ññð¾ ð¼ð½ð¾ð³ððµ ñð²ðñðµññð½ðµ ð½ðµ ððð¼ðµñðññ ðºð¾ð³ðð ðð¼ ð¾ñðñðð²ðñðµññ reply ð direct ð¼ð¾ðð½ð¾ ð¾ñðñðð²ðñññ ñð¾ðñðºð¾ ñðµð¼ ðºñð¾ ñðµðñ ñðñððµñ    \n",
       "\n",
       "   new_len_tweet  \n",
       "0            159  \n",
       "1            142  \n",
       "2            141  \n",
       "3            142  \n",
       "4            159  "
      ]
     },
     "execution_count": 32,
     "metadata": {},
     "output_type": "execute_result"
    }
   ],
   "source": [
    "df_tweet2.head()"
   ]
  },
  {
   "cell_type": "code",
   "execution_count": 33,
   "id": "0e5899d3",
   "metadata": {},
   "outputs": [
    {
     "data": {
      "application/vnd.jupyter.widget-view+json": {
       "model_id": "f8b8523cdd9246d0be4d06e0054ed667",
       "version_major": 2,
       "version_minor": 0
      },
      "text/plain": [
       "  0%|          | 0/87 [00:00<?, ?it/s]"
      ]
     },
     "metadata": {},
     "output_type": "display_data"
    },
    {
     "data": {
      "application/vnd.jupyter.widget-view+json": {
       "model_id": "4a1e397c3e6f4fa088ec1c520afe6140",
       "version_major": 2,
       "version_minor": 0
      },
      "text/plain": [
       "  0%|          | 0/1600000 [00:00<?, ?it/s]"
      ]
     },
     "metadata": {},
     "output_type": "display_data"
    },
    {
     "name": "stdout",
     "output_type": "stream",
     "text": [
      "Total of tweets with more than 140 characters: 629\n"
     ]
    }
   ],
   "source": [
    "# Now those tweets have no useful information, now replace tweet for \"neutral\" so it won't mess with the sentiment analysis\n",
    "\n",
    "null_tweet = df_tweet2['ID']\n",
    "\n",
    "for t in tqdm(null_tweet, total=len(null_tweet)):\n",
    "    if t in df1['ID'].values:\n",
    "        df1.loc[df1['ID'] == t, 'TWEET'] = \"neutral\"\n",
    "\n",
    "# Check for long tweets again\n",
    "\n",
    "counts = 0\n",
    "for i in tqdm(df1['TWEET'], total=len(df1)):\n",
    "    if len(i) > 140:\n",
    "        counts = counts + 1\n",
    "print('Total of tweets with more than 140 characters: ' + str(counts))"
   ]
  },
  {
   "cell_type": "code",
   "execution_count": 34,
   "id": "2867df34",
   "metadata": {},
   "outputs": [
    {
     "data": {
      "application/vnd.jupyter.widget-view+json": {
       "model_id": "f994a5f9af344bb0adc066c26609418e",
       "version_major": 2,
       "version_minor": 0
      },
      "text/plain": [
       "  0%|          | 0/1600000 [00:00<?, ?it/s]"
      ]
     },
     "metadata": {},
     "output_type": "display_data"
    }
   ],
   "source": [
    "# Apply function to df1\n",
    "\n",
    "df1['TWEET'] = df1['TWEET'].progress_apply(clean_tweet)"
   ]
  },
  {
   "cell_type": "code",
   "execution_count": 35,
   "id": "95d5935c",
   "metadata": {},
   "outputs": [
    {
     "data": {
      "application/vnd.jupyter.widget-view+json": {
       "model_id": "c7d44945afb547a0a5a3821f577c3346",
       "version_major": 2,
       "version_minor": 0
      },
      "text/plain": [
       "  0%|          | 0/1600000 [00:00<?, ?it/s]"
      ]
     },
     "metadata": {},
     "output_type": "display_data"
    },
    {
     "name": "stdout",
     "output_type": "stream",
     "text": [
      "Total of tweets with more than 140 characters: 0\n"
     ]
    }
   ],
   "source": [
    "# Final count\n",
    "\n",
    "counts = 0\n",
    "for i in tqdm(df1['TWEET'], total=len(df1)):\n",
    "    if len(i) > 140:\n",
    "        counts = counts + 1\n",
    "print('Total of tweets with more than 140 characters: ' + str(counts))"
   ]
  },
  {
   "cell_type": "code",
   "execution_count": 36,
   "id": "bcfd76e5",
   "metadata": {},
   "outputs": [
    {
     "data": {
      "image/png": "[encoded data removed]",
      "text/plain": [
       "<Figure size 500x500 with 1 Axes>"
      ]
     },
     "metadata": {},
     "output_type": "display_data"
    }
   ],
   "source": [
    "# Plot boxplot\n",
    "\n",
    "fig, ax = plt.subplots(figsize=(5, 5))\n",
    "plt.boxplot(df_tweet.new_len_tweet)\n",
    "plt.show()"
   ]
  },
  {
   "cell_type": "code",
   "execution_count": 42,
   "id": "93ec97b2",
   "metadata": {},
   "outputs": [
    {
     "name": "stdout",
     "output_type": "stream",
     "text": [
      "{'neg': 1.0, 'neu': 0.0, 'pos': 0.0, 'compound': -0.296}\n",
      "{'neg': 0.0, 'neu': 0.0, 'pos': 1.0, 'compound': 0.4019}\n",
      "{'neg': 0.0, 'neu': 1.0, 'pos': 0.0, 'compound': 0.0}\n"
     ]
    }
   ],
   "source": [
    "sia = SentimentIntensityAnalyzer()\n",
    "print(sia.polarity_scores('NO'))\n",
    "print(sia.polarity_scores('YES'))\n",
    "print(sia.polarity_scores('NEU'))"
   ]
  },
  {
   "cell_type": "code",
   "execution_count": null,
   "id": "094907bf",
   "metadata": {},
   "outputs": [],
   "source": []
  }
 ],
 "metadata": {
  "kernelspec": {
   "display_name": "Python 3 (ipykernel)",
   "language": "python",
   "name": "python3"
  },
  "language_info": {
   "codemirror_mode": {
    "name": "ipython",
    "version": 3
   },
   "file_extension": ".py",
   "mimetype": "text/x-python",
   "name": "python",
   "nbconvert_exporter": "python",
   "pygments_lexer": "ipython3",
   "version": "3.11.4"
  }
 },
 "nbformat": 4,
 "nbformat_minor": 5
}
