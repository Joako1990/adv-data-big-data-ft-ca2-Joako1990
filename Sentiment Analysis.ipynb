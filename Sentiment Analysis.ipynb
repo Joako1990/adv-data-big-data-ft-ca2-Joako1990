{
 "cells": [
  {
   "cell_type": "code",
   "execution_count": 2,
   "id": "f0227d2b",
   "metadata": {},
   "outputs": [],
   "source": [
    "import pandas as pd\n",
    "import numpy as np\n",
    "import seaborn as sns\n",
    "import random\n",
    "from sklearn.preprocessing import LabelEncoder\n",
    "from sklearn.preprocessing import MinMaxScaler\n",
    "from sklearn.preprocessing import StandardScaler\n",
    "from datetime import datetime\n",
    "from numpy import mean\n",
    "import seaborn as sns\n",
    "import matplotlib.pyplot as plt\n",
    "import plotly.express as px\n",
    "import re\n",
    "import string\n",
    "from string import punctuation\n",
    "from vaderSentiment.vaderSentiment import SentimentIntensityAnalyzer\n",
    "import nltk\n",
    "from nltk.sentiment import SentimentIntensityAnalyzer\n",
    "from nltk.corpus import stopwords\n",
    "from nltk.tokenize import word_tokenize\n",
    "from tqdm.notebook import tqdm\n",
    "import googletrans\n",
    "from googletrans import *\n",
    "from langdetect import detect\n",
    "\n",
    "import warnings\n",
    "warnings.filterwarnings('ignore')"
   ]
  },
  {
   "cell_type": "markdown",
   "id": "aac3b989",
   "metadata": {},
   "source": [
    "## Sentiment Analysis"
   ]
  },
  {
   "cell_type": "code",
   "execution_count": 3,
   "id": "7f850215",
   "metadata": {},
   "outputs": [],
   "source": [
    "sia = SentimentIntensityAnalyzer()"
   ]
  },
  {
   "cell_type": "code",
   "execution_count": null,
   "id": "0cd9a731",
   "metadata": {},
   "outputs": [],
   "source": [
    "# SENTIMENT ANALYSIS DF1\n",
    "\n",
    "scores = []\n",
    "for tweet in tqdm(df1['TWEET'], desc='Sentiment Analysis'):\n",
    "    score = sia.polarity_scores(tweet)\n",
    "    scores.append(score) \n",
    "\n",
    "scores_df = pd.DataFrame(scores)\n",
    "\n",
    "df1 = pd.concat([df1, scores_df], axis=1)"
   ]
  },
  {
   "cell_type": "code",
   "execution_count": null,
   "id": "5d1fad5b",
   "metadata": {},
   "outputs": [],
   "source": [
    "# Assign Sentiment label\n",
    "\n",
    "df1['SENTIMENT'] = df1['compound'].apply(lambda x: 'Positive' if x >= 0.05 else ('Negative' if x <= -0.05 else 'Neutral'))"
   ]
  },
  {
   "cell_type": "code",
   "execution_count": null,
   "id": "8add76dd",
   "metadata": {},
   "outputs": [],
   "source": [
    "# # TEXT PROCESSING DF2 MAKES NO DIFFERENCE\n",
    "\n",
    "# df2 = df1.copy()\n",
    "# tqdm.pandas()\n",
    "# def get_text_processing(text):\n",
    "#     stpword = stopwords.words('english')\n",
    "#     no_punctuation = [char for char in text if char not in string.punctuation]\n",
    "#     no_punctuation = ''.join(no_punctuation)\n",
    "#     return ' '.join([word for word in no_punctuation.split() if\n",
    "#                     word.lower() not in stpword])\n",
    "\n",
    "# tqdm.pandas(desc=\"Text Processing\")\n",
    "# df2['N_T'] = df2['TWEET'].progress_apply(get_text_processing)\n",
    "# #df2['N_T'] = df2['TWEET'].apply(get_text_processing)\n",
    "\n",
    "# # SENTIMENT ANALYSIS DF2\n",
    "\n",
    "# scores2 = []\n",
    "# tqdm.pandas(desc=\"Sentiment Analysis\")\n",
    "# for tweet in tqdm(df2['N_T']):\n",
    "#     score2 = sia.polarity_scores(tweet)\n",
    "#     scores2.append(score2) \n",
    "\n",
    "# scores_df2 = pd.DataFrame(scores)\n",
    "\n",
    "# df2 = pd.concat([df2, scores_df2], axis=1)\n",
    "\n",
    "# df2['SENTIMENT2'] = df2['compound'].apply(lambda x: 'Positive' if x >= 0.05 else ('Negative' if x <= -0.05 else 'Neutral'))"
   ]
  },
  {
   "cell_type": "code",
   "execution_count": null,
   "id": "4692402a",
   "metadata": {},
   "outputs": [],
   "source": [
    "# Translate neutral tweets\n",
    "\n",
    "# def translate_tweets(df_n):\n",
    "#     translator = googletrans.Translator()\n",
    "#     translated_tweets = []\n",
    "    \n",
    "#     for tweet in tqdm(df_n['TWEET']):\n",
    "#         try:\n",
    "#             if len(tweet.strip()) > 0 and len(tweet.split()) > 2:\n",
    "#                 if detect(tweet) != 'en':\n",
    "#                     tweet = str(tweet)\n",
    "#                     translated_tweet = translator.translate(tweet, src='auto', dest='en').text\n",
    "#                 else:\n",
    "#                     translated_tweet = tweet\n",
    "#             else:\n",
    "#                 translated_tweet = tweet\n",
    "                \n",
    "#         except (ValueError, AttributeError, Exception) as e:\n",
    "#             translated_tweet = np.nan\n",
    "        \n",
    "#         translated_tweets.append(translated_tweet)\n",
    "    \n",
    "#     df_n['TWEET'] = translated_tweets\n",
    "    \n",
    "#     return df_n\n"
   ]
  },
  {
   "cell_type": "code",
   "execution_count": null,
   "id": "01fa0bfc",
   "metadata": {},
   "outputs": [],
   "source": [
    "#df_n = translate_tweets(df_n)"
   ]
  },
  {
   "cell_type": "code",
   "execution_count": null,
   "id": "a36410d6",
   "metadata": {},
   "outputs": [],
   "source": [
    "# Create df by day\n",
    "\n",
    "df1['DATE'] = pd.to_datetime(df1['DATE'])\n",
    "df1['DATE_DAY'] = df1['DATE'].dt.date\n",
    "df1_day = df1.groupby('DATE_DAY').agg({'DAY_OF_WEEK': 'first', 'TWEET': 'count', 'compound': 'mean'}).reset_index()\n",
    "df1_day['SENTIMENT'] = df1_day['compound'].apply(lambda x: 'Positive' if x >= 0.05 else ('Negative' if x <= -0.05 else 'Neutral'))\n",
    "df1_day.rename(columns={'DATE_DAY' : 'DATE', 'TWEET': 'TWEETS'}, inplace=True)\n"
   ]
  },
  {
   "cell_type": "markdown",
   "id": "ed6b4c66",
   "metadata": {},
   "source": [
    "## Sentiment Analysis with ROBERTA"
   ]
  },
  {
   "cell_type": "code",
   "execution_count": null,
   "id": "12e057fc",
   "metadata": {},
   "outputs": [],
   "source": [
    "from transformers import TFRobertaForSequenceClassification, RobertaTokenizer\n",
    "import tensorflow as tf"
   ]
  },
  {
   "cell_type": "code",
   "execution_count": null,
   "id": "66be080e",
   "metadata": {},
   "outputs": [],
   "source": [
    "from tqdm.notebook import tqdm  # Importar tqdm_notebook en lugar de tqdm\n",
    "\n",
    "# Cargar el modelo preentrenado y el tokenizador\n",
    "model_name = \"roberta-base\"  # Puedes cambiar esto según el modelo que quieras utilizar\n",
    "tokenizer = RobertaTokenizer.from_pretrained(model_name)\n",
    "model = TFRobertaForSequenceClassification.from_pretrained(model_name)\n",
    "\n",
    "# Supongamos que 'text' es la columna en tu DataFrame que contiene los textos que quieres analizar\n",
    "texts = df1['TWEET'].tolist()\n",
    "\n",
    "# Tokenizar los textos y convertirlos en vectores de entrada\n",
    "encoded_texts = tokenizer(texts, padding=True, truncation=True, return_tensors='tf')\n",
    "\n",
    "# Realizar la inferencia sobre los datos\n",
    "predictions = []\n",
    "\n",
    "# Agregar una barra de progreso\n",
    "with tqdm(total=len(encoded_texts['input_ids'])) as pbar:\n",
    "    for i in range(len(encoded_texts['input_ids'])):\n",
    "        # Hacer la predicción para un solo texto\n",
    "        pred = model.predict({k: v[i:i+1] for k, v in encoded_texts.items()})\n",
    "        predictions.append(pred)\n",
    "        pbar.update(1)  # Actualizar la barra de progreso\n",
    "\n",
    "# Obtener las etiquetas de los sentimientos\n",
    "sentiments = tf.argmax(predictions.logits, axis=1)\n",
    "\n",
    "# Agregar los resultados de sentimientos al DataFrame original\n",
    "df1['sentiment'] = sentiments.numpy()\n"
   ]
  }
 ],
 "metadata": {
  "kernelspec": {
   "display_name": "Python 3 (ipykernel)",
   "language": "python",
   "name": "python3"
  },
  "language_info": {
   "codemirror_mode": {
    "name": "ipython",
    "version": 3
   },
   "file_extension": ".py",
   "mimetype": "text/x-python",
   "name": "python",
   "nbconvert_exporter": "python",
   "pygments_lexer": "ipython3",
   "version": "3.11.4"
  }
 },
 "nbformat": 4,
 "nbformat_minor": 5
}
